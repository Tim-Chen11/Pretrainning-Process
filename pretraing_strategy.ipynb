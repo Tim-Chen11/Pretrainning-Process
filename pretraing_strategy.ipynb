{
 "cells": [
  {
   "cell_type": "markdown",
   "id": "6b813c35",
   "metadata": {},
   "source": [
    "\n",
    "**2.3.4 Pre-training Strategy**\n",
    "\n",
    "> **Study these battle-tested recipes:**\n",
    ">\n",
    "> * **MiniCPM series**\n",
    "> * **phi series**\n",
    "> * **DeepSeekMath**\n",
    "\n",
    "They provide proven schedules, hyperparameter settings, and curriculum techniques that you can adapt for your own large-scale Chinese pre-training.\n"
   ]
  }
 ],
 "metadata": {
  "language_info": {
   "name": "python"
  }
 },
 "nbformat": 4,
 "nbformat_minor": 5
}

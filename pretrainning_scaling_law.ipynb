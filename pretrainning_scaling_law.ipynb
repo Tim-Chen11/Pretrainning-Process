{
 "cells": [
  {
   "cell_type": "markdown",
   "id": "d68c4cac",
   "metadata": {},
   "source": []
  }
 ],
 "metadata": {
  "language_info": {
   "name": "python"
  }
 },
 "nbformat": 4,
 "nbformat_minor": 5
}
